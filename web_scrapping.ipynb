{
 "cells": [
  {
   "cell_type": "code",
   "execution_count": 45,
   "id": "5d2d53ea-f017-4828-af69-e1eb24b30bc4",
   "metadata": {},
   "outputs": [],
   "source": [
    "del bigbox[0:3]"
   ]
  },
  {
   "cell_type": "code",
   "execution_count": 35,
   "id": "a9d76f11-38e4-48b4-8cff-a2604b258493",
   "metadata": {},
   "outputs": [],
   "source": [
    "import requests\n",
    "from bs4 import BeautifulSoup as bs\n",
    "from urllib.request import urlopen \n",
    "import logging"
   ]
  },
  {
   "cell_type": "code",
   "execution_count": 46,
   "id": "dbf9a07d-782e-4f7d-9918-06157d786c73",
   "metadata": {},
   "outputs": [],
   "source": [
    "flipkart_url = \"https://www.flipkart.com/search?q=\" + \"iphone12\""
   ]
  },
  {
   "cell_type": "code",
   "execution_count": 47,
   "id": "8854f086-60fc-40db-ba19-b09cbf9ab5ef",
   "metadata": {},
   "outputs": [
    {
     "data": {
      "text/plain": [
       "'https://www.flipkart.com/search?q=swimmingsuit'"
      ]
     },
     "execution_count": 47,
     "metadata": {},
     "output_type": "execute_result"
    }
   ],
   "source": [
    "flipkart_url"
   ]
  },
  {
   "cell_type": "code",
   "execution_count": 48,
   "id": "314a7a1f-067f-4824-b666-39f7b2b760f9",
   "metadata": {},
   "outputs": [],
   "source": [
    "urlclient = urlopen(flipkart_url)"
   ]
  },
  {
   "cell_type": "code",
   "execution_count": null,
   "id": "e95d1b6c-fef0-456e-b906-339aab5c09d3",
   "metadata": {},
   "outputs": [],
   "source": [
    "urlclient"
   ]
  },
  {
   "cell_type": "code",
   "execution_count": 49,
   "id": "f0b7106f-c199-43b8-af73-debb586ee081",
   "metadata": {},
   "outputs": [],
   "source": [
    "flipkart_page = urlclient.read()"
   ]
  },
  {
   "cell_type": "code",
   "execution_count": 50,
   "id": "327c6fcf-8fb8-44bf-828a-e94523905b97",
   "metadata": {},
   "outputs": [],
   "source": [
    "flipkart_html = bs(flipkart_page,'html.parser')"
   ]
  },
  {
   "cell_type": "code",
   "execution_count": 51,
   "id": "2f39e573-52f9-4e5d-a724-f576f8072edc",
   "metadata": {},
   "outputs": [],
   "source": [
    "bigbox = flipkart_html.findAll(\"div\" , {\"class\":\"_1AtVbE col-12-12\"})"
   ]
  },
  {
   "cell_type": "code",
   "execution_count": 52,
   "id": "77c6d9f0-b663-431c-ac86-72dff3515fd0",
   "metadata": {},
   "outputs": [
    {
     "data": {
      "text/plain": [
       "14"
      ]
     },
     "execution_count": 52,
     "metadata": {},
     "output_type": "execute_result"
    }
   ],
   "source": [
    "len(bigbox)"
   ]
  },
  {
   "cell_type": "code",
   "execution_count": 53,
   "id": "1da82d99-1718-482a-b730-702a8fff9e46",
   "metadata": {},
   "outputs": [
    {
     "ename": "TypeError",
     "evalue": "'NoneType' object is not subscriptable",
     "output_type": "error",
     "traceback": [
      "\u001b[0;31m---------------------------------------------------------------------------\u001b[0m",
      "\u001b[0;31mTypeError\u001b[0m                                 Traceback (most recent call last)",
      "Cell \u001b[0;32mIn[53], line 2\u001b[0m\n\u001b[1;32m      1\u001b[0m \u001b[38;5;28;01mfor\u001b[39;00m i \u001b[38;5;129;01min\u001b[39;00m bigbox:\n\u001b[0;32m----> 2\u001b[0m     \u001b[38;5;28mprint\u001b[39m( \u001b[38;5;124m\"\u001b[39m\u001b[38;5;124mhttps://www.flipkart.com\u001b[39m\u001b[38;5;124m\"\u001b[39m\u001b[38;5;241m+\u001b[39m\u001b[43mi\u001b[49m\u001b[38;5;241;43m.\u001b[39;49m\u001b[43mdiv\u001b[49m\u001b[38;5;241;43m.\u001b[39;49m\u001b[43mdiv\u001b[49m\u001b[38;5;241;43m.\u001b[39;49m\u001b[43mdiv\u001b[49m\u001b[38;5;241;43m.\u001b[39;49m\u001b[43ma\u001b[49m\u001b[43m[\u001b[49m\u001b[38;5;124;43m'\u001b[39;49m\u001b[38;5;124;43mhref\u001b[39;49m\u001b[38;5;124;43m'\u001b[39;49m\u001b[43m]\u001b[49m)\n",
      "\u001b[0;31mTypeError\u001b[0m: 'NoneType' object is not subscriptable"
     ]
    }
   ],
   "source": [
    "for i in bigbox:\n",
    "    print( \"https://www.flipkart.com\"+i.div.div.div.a['href'])"
   ]
  },
  {
   "cell_type": "code",
   "execution_count": 54,
   "id": "f64d5cac-8c5e-456f-b41c-d470f77be176",
   "metadata": {},
   "outputs": [],
   "source": [
    "productlink = \"https://www.flipkart.com\" + bigbox[3].div.div.div.a['href']"
   ]
  },
  {
   "cell_type": "code",
   "execution_count": null,
   "id": "dd8ed339-4aaf-45c6-89b1-45278b8ae49f",
   "metadata": {},
   "outputs": [],
   "source": [
    "product_req = requests.get(productlink)"
   ]
  },
  {
   "cell_type": "code",
   "execution_count": null,
   "id": "c3485348-d7a3-4ef1-bce9-c067948b9eb9",
   "metadata": {},
   "outputs": [],
   "source": [
    "productlink"
   ]
  },
  {
   "cell_type": "code",
   "execution_count": null,
   "id": "50148cf4-834d-4b8e-a0ac-ca2ddb758d15",
   "metadata": {},
   "outputs": [],
   "source": [
    "product_html = bs(product_req.text,'html.parser')"
   ]
  },
  {
   "cell_type": "code",
   "execution_count": null,
   "id": "cf3c8284-fdb3-4d68-8713-458c8f968cd0",
   "metadata": {},
   "outputs": [],
   "source": [
    "comment_box = product_html.find_all(\"div\",{\"class\" : \"_16PBlm\"})"
   ]
  },
  {
   "cell_type": "code",
   "execution_count": null,
   "id": "5acafa0e-fe26-49c0-9329-0e09eb315c6d",
   "metadata": {},
   "outputs": [],
   "source": [
    "len(comment_box)"
   ]
  },
  {
   "cell_type": "code",
   "execution_count": null,
   "id": "cdfc4cb1-a165-415e-9f66-2e34b935c47e",
   "metadata": {},
   "outputs": [],
   "source": [
    "for i in comment_box:\n",
    "    print(i.div.div.find_all('p',{\"class\":\"_2sc7ZR _2V5EHH\"})[0].text)"
   ]
  },
  {
   "cell_type": "code",
   "execution_count": null,
   "id": "0e7d20eb-0e9d-405a-9d6e-e2aed5dcd5ea",
   "metadata": {},
   "outputs": [],
   "source": [
    "for i in comment_box:\n",
    "    print(i.div.div.div.div.text)"
   ]
  },
  {
   "cell_type": "code",
   "execution_count": null,
   "id": "6ef39c5b-3bce-400c-ac3f-e0e6324f53f0",
   "metadata": {},
   "outputs": [],
   "source": [
    "for i in comment_box:\n",
    "    print(i.div.div.div.p.text)"
   ]
  },
  {
   "cell_type": "code",
   "execution_count": 44,
   "id": "a6da725a-1acb-4e6a-8a54-241dd1173be8",
   "metadata": {},
   "outputs": [
    {
     "name": "stdout",
     "output_type": "stream",
     "text": [
      "indeed a great phone feels premium in hand but battery life is low\n",
      "Its just Perfect . Prices are a bit high .\n",
      "The camera is mind-blowing I love it 😘\n",
      "A masterpiece to cherish.\n",
      "Best designed iPhone\n",
      "I have been using iPhones for years, but the fast charging and battery on this one is brilliant. Like i always say, iPhone is more of a jewellery than a phone. But this one has some power-packed features and an awesome camera. So if you can afford it, buy it!\n",
      "I like the most in this phone:-1. I like the size of this phone because it is easy to hold.2. The camera quality of this phone is admirable. 3. Battery backup is good.4. The new design and colour  of this phone also a plus point of its beauty.5. These  points are my personal which i like most in this phone.\n",
      "This one of the best iPhone ever built, though battery backup isn’t good. But the user experience is brilliant.Upgraded from 11 Pro.\n",
      "I purchased this phone 4 my wife.i give her surprised gift.she was so happy that her tears came when she saw this gift☺️.Some reviews after 4 days use1. Looks awesome 👌2. Camera quality superb❤️3. Battery avarage normal🤟4. According 2 price its below avarage 🤏5. Performance no 1👍\n",
      "Premium quality iPhone💯\n"
     ]
    },
    {
     "ename": "AttributeError",
     "evalue": "'NoneType' object has no attribute 'div'",
     "output_type": "error",
     "traceback": [
      "\u001b[0;31m---------------------------------------------------------------------------\u001b[0m",
      "\u001b[0;31mAttributeError\u001b[0m                            Traceback (most recent call last)",
      "Cell \u001b[0;32mIn[44], line 2\u001b[0m\n\u001b[1;32m      1\u001b[0m \u001b[38;5;28;01mfor\u001b[39;00m i \u001b[38;5;129;01min\u001b[39;00m comment_box:\n\u001b[0;32m----> 2\u001b[0m     \u001b[38;5;28mprint\u001b[39m(\u001b[43mi\u001b[49m\u001b[38;5;241;43m.\u001b[39;49m\u001b[43mdiv\u001b[49m\u001b[38;5;241;43m.\u001b[39;49m\u001b[43mdiv\u001b[49m\u001b[38;5;241m.\u001b[39mfind_all(\u001b[38;5;124m'\u001b[39m\u001b[38;5;124mdiv\u001b[39m\u001b[38;5;124m'\u001b[39m,{\u001b[38;5;124m\"\u001b[39m\u001b[38;5;124mclass\u001b[39m\u001b[38;5;124m\"\u001b[39m:\u001b[38;5;124m'\u001b[39m\u001b[38;5;124m'\u001b[39m})[\u001b[38;5;241m0\u001b[39m]\u001b[38;5;241m.\u001b[39mdiv\u001b[38;5;241m.\u001b[39mtext)\n",
      "\u001b[0;31mAttributeError\u001b[0m: 'NoneType' object has no attribute 'div'"
     ]
    }
   ],
   "source": [
    "for i in comment_box:\n",
    "    print(i.div.div.find_all('div',{\"class\":''})[0].div.text)"
   ]
  },
  {
   "cell_type": "code",
   "execution_count": null,
   "id": "8814dae3-e737-458b-97f2-74bbcfa5c439",
   "metadata": {},
   "outputs": [],
   "source": []
  },
  {
   "cell_type": "code",
   "execution_count": null,
   "id": "67f3daa7-5479-4e18-a813-b0e193dae223",
   "metadata": {},
   "outputs": [],
   "source": []
  },
  {
   "cell_type": "code",
   "execution_count": null,
   "id": "02bf9d5b-254e-4c0b-8e45-875e4da35e1e",
   "metadata": {},
   "outputs": [],
   "source": [
    "\n"
   ]
  }
 ],
 "metadata": {
  "kernelspec": {
   "display_name": "Python 3 (ipykernel)",
   "language": "python",
   "name": "python3"
  },
  "language_info": {
   "codemirror_mode": {
    "name": "ipython",
    "version": 3
   },
   "file_extension": ".py",
   "mimetype": "text/x-python",
   "name": "python",
   "nbconvert_exporter": "python",
   "pygments_lexer": "ipython3",
   "version": "3.10.8"
  }
 },
 "nbformat": 4,
 "nbformat_minor": 5
}
